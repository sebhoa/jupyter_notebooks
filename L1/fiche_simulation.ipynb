{
 "cells": [
  {
   "cell_type": "markdown",
   "metadata": {},
   "source": [
    "# Algorithmes et Programmation -- TEST\n",
    "\n",
    "## Introduction\n",
    "\n",
    "Dans cette fiche notebook, vous allez écrire du code Python, le tester, enregistrer votre ficher sur votre ordinateur pour ensuite la déposer sur moodle. Tout ceci n'est qu'une simulation avant votre vrai examen de 2e session qui se déroulera de la même façon.\n",
    "\n",
    "## Démarche\n",
    "\n",
    "1. Cette fiche que vous consultez via le site `mybinder` est une copie pour vous. \n",
    "2. Réponsez aux diverses questions\n",
    "3. Sauvegardez sur votre machine une copie du notebook en lui donnant comme nom votre numéro étudiant : exemple `38006611.ipynb`\n",
    "4. Rendez-vous sur moodle : *mettre ici l'URL du moodle une fois que je l'aurai* et déposez votre notebook\n"
   ]
  },
  {
   "cell_type": "markdown",
   "metadata": {},
   "source": [
    "## Question 1\n",
    "\n",
    "Ecrire une fonction `truc` qui prend deux paramètres `a` et `b` et retourne la somme de `a` et `b`.\n",
    "\n",
    "### Votre réponse ci-dessous..."
   ]
  },
  {
   "cell_type": "code",
   "execution_count": null,
   "metadata": {},
   "outputs": [],
   "source": [
    "# Tapez ici votre réponse\n",
    "#"
   ]
  },
  {
   "cell_type": "markdown",
   "metadata": {},
   "source": [
    "### Tester votre solution...\n",
    "\n",
    "La cellule ci-dessous contient de quoi tester votre réponse. Exécutez-la : vous verrez si votre fonction fait bien ce qu'il faut."
   ]
  },
  {
   "cell_type": "code",
   "execution_count": null,
   "metadata": {},
   "outputs": [],
   "source": [
    "assert truc(2, 3) == 5, '2+3 = 5'\n",
    "assert truc(-1, 1) == 0, 'On doit pouvoir mettre des nombres négatifs'\n",
    "print('Tout est OK')"
   ]
  },
  {
   "cell_type": "markdown",
   "metadata": {},
   "source": [
    "## Question 2\n",
    "\n",
    "Construire en compréhension la liste des carrés des entiers de 1 à 100"
   ]
  },
  {
   "cell_type": "code",
   "execution_count": null,
   "metadata": {},
   "outputs": [],
   "source": []
  },
  {
   "cell_type": "markdown",
   "metadata": {},
   "source": [
    "## Question 3\n",
    "\n",
    "Bientôt"
   ]
  },
  {
   "cell_type": "code",
   "execution_count": null,
   "metadata": {},
   "outputs": [],
   "source": []
  }
 ],
 "metadata": {
  "kernelspec": {
   "display_name": "Python 3",
   "language": "python",
   "name": "python3"
  },
  "language_info": {
   "codemirror_mode": {
    "name": "ipython",
    "version": 3
   },
   "file_extension": ".py",
   "mimetype": "text/x-python",
   "name": "python",
   "nbconvert_exporter": "python",
   "pygments_lexer": "ipython3",
   "version": "3.7.0"
  }
 },
 "nbformat": 4,
 "nbformat_minor": 2
}
