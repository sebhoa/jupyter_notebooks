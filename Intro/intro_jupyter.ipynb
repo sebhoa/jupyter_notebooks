{
 "cells": [
  {
   "cell_type": "code",
   "execution_count": 1,
   "metadata": {},
   "outputs": [],
   "source": [
    "import hashlib"
   ]
  },
  {
   "cell_type": "code",
   "execution_count": 1,
   "metadata": {},
   "outputs": [],
   "source": [
    "import test3"
   ]
  },
  {
   "cell_type": "markdown",
   "metadata": {},
   "source": [
    "# Jupyter Notebook une rapide introduction\n",
    "\n",
    "## Markdown\n",
    "\n",
    "### Les titres\n",
    "\n",
    "```markdown\n",
    "# Jupyter Notebook une rapide introduction\n",
    "## Markdown\n",
    "### Les titres\n",
    "```\n",
    "\n",
    "### Les listes\n",
    "- Listes à puces\n",
    "- Listes énumérées"
   ]
  },
  {
   "cell_type": "markdown",
   "metadata": {},
   "source": [
    "```md\n",
    "1. Peut-on faire des listes de listes ?\n",
    "    1. Absolument pas\n",
    "    2. Bien sûr \n",
    "    3. Je ne sais pas\n",
    "---\n",
    "1. La numérotation dans le source est-elle importante ?\n",
    "    2. Oui\n",
    "    2. Non\n",
    "```\n",
    "\n",
    "**Résultat :**\n",
    "\n",
    "1. Peut-on faire des listes de listes ?\n",
    "    1. Absolument pas\n",
    "    2. Bien sûr \n",
    "    3. Je ne sais pas\n",
    "---\n",
    "2. La numérotation dans le source est-elle importante ?\n",
    "    1. Oui\n",
    "    2. Non"
   ]
  },
  {
   "cell_type": "code",
   "execution_count": 2,
   "metadata": {},
   "outputs": [],
   "source": [
    "reponse = 'BA'"
   ]
  },
  {
   "cell_type": "code",
   "execution_count": 3,
   "metadata": {},
   "outputs": [
    {
     "name": "stdout",
     "output_type": "stream",
     "text": [
      "Bonne réponse\n",
      "retour question 2\n"
     ]
    }
   ],
   "source": [
    "test3.verif(reponse)"
   ]
  },
  {
   "cell_type": "code",
   "execution_count": 11,
   "metadata": {},
   "outputs": [
    {
     "name": "stdout",
     "output_type": "stream",
     "text": [
      "True\n"
     ]
    }
   ],
   "source": [
    "reponse = 'BB'\n",
    "test = hashlib.md5(reponse.encode(\"utf8\")).hexdigest()\n",
    "print(test == '9d3d9048db16a7eee539e93e3618cbe7')"
   ]
  },
  {
   "cell_type": "code",
   "execution_count": 10,
   "metadata": {},
   "outputs": [],
   "source": [
    "from IPython.display import clear_output"
   ]
  },
  {
   "cell_type": "code",
   "execution_count": null,
   "metadata": {},
   "outputs": [],
   "source": []
  },
  {
   "cell_type": "code",
   "execution_count": 14,
   "metadata": {},
   "outputs": [
    {
     "name": "stdout",
     "output_type": "stream",
     "text": [
      "0999\n"
     ]
    }
   ],
   "source": [
    "for i in range(1000):\n",
    "    print(f'{i:04}')\n",
    "    clear_output(wait=True)"
   ]
  },
  {
   "cell_type": "markdown",
   "metadata": {},
   "source": [
    "# Titre"
   ]
  },
  {
   "cell_type": "markdown",
   "metadata": {},
   "source": [
    "<h1>Salut</h1>"
   ]
  },
  {
   "cell_type": "code",
   "execution_count": null,
   "metadata": {},
   "outputs": [],
   "source": []
  }
 ],
 "metadata": {
  "kernelspec": {
   "display_name": "Python 3",
   "language": "python",
   "name": "python3"
  },
  "language_info": {
   "codemirror_mode": {
    "name": "ipython",
    "version": 3
   },
   "file_extension": ".py",
   "mimetype": "text/x-python",
   "name": "python",
   "nbconvert_exporter": "python",
   "pygments_lexer": "ipython3",
   "version": "3.7.0"
  }
 },
 "nbformat": 4,
 "nbformat_minor": 2
}
