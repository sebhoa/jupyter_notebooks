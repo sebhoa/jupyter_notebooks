{
 "cells": [
  {
   "cell_type": "markdown",
   "metadata": {
    "deletable": false,
    "editable": false,
    "nbgrader": {
     "checksum": "1308786940f3e5aa72461691d747ab55",
     "grade": false,
     "grade_id": "cell-f1bec2781f58cbb2",
     "locked": true,
     "schema_version": 1,
     "solution": false
    }
   },
   "source": [
    "# Manipulation des itérateurs\n",
    "\n",
    "Un petit exercice pour manipuler les itérateurs"
   ]
  },
  {
   "cell_type": "markdown",
   "metadata": {
    "deletable": false,
    "editable": false,
    "nbgrader": {
     "checksum": "dcb144675a804929671c40db2e6b435e",
     "grade": false,
     "grade_id": "enonce_q1",
     "locked": true,
     "schema_version": 1,
     "solution": false
    }
   },
   "source": [
    "## fonction `is_prime` \n",
    "\n",
    "Ecrire une fonction `is_prime` qui prend un entier n positif ou nul et retourne le booléen `True` si et seulement si n est un nombre premier."
   ]
  },
  {
   "cell_type": "code",
   "execution_count": null,
   "metadata": {
    "deletable": false,
    "nbgrader": {
     "checksum": "c526d1482c66d0c08611ab75c01cd049",
     "grade": false,
     "grade_id": "is_prime_v1_def",
     "locked": false,
     "schema_version": 1,
     "solution": true
    }
   },
   "outputs": [],
   "source": [
    "from math import sqrt\n",
    "\n",
    "# Mettre votre code dans cette cellule"
   ]
  },
  {
   "cell_type": "code",
   "execution_count": null,
   "metadata": {
    "deletable": false,
    "editable": false,
    "nbgrader": {
     "checksum": "3b04c578935dd410a7c3636983c28115",
     "grade": true,
     "grade_id": "is_prime_v1_tests",
     "locked": true,
     "points": 1,
     "schema_version": 1,
     "solution": false
    }
   },
   "outputs": [],
   "source": [
    "\"\"\"Validez votre fonction grâce aux exemples ci-dessous. Cette cellule est verrouillée\n",
    "   Vous ne pouvez pas la modifier, juste l'exécuter\"\"\"\n",
    "\n",
    "assert is_prime(0) == False\n",
    "assert is_prime(2) == True\n",
    "assert is_prime(19) == True\n",
    "assert is_prime(100001357) == True\n",
    "assert is_prime(22222222) == False\n",
    "\n"
   ]
  }
 ],
 "metadata": {
  "kernelspec": {
   "display_name": "Python 3",
   "language": "python",
   "name": "python3"
  },
  "language_info": {
   "codemirror_mode": {
    "name": "ipython",
    "version": 3
   },
   "file_extension": ".py",
   "mimetype": "text/x-python",
   "name": "python",
   "nbconvert_exporter": "python",
   "pygments_lexer": "ipython3",
   "version": "3.7.0"
  }
 },
 "nbformat": 4,
 "nbformat_minor": 2
}
