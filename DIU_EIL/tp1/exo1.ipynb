{
 "cells": [
  {
   "cell_type": "markdown",
   "metadata": {
    "deletable": false,
    "editable": false,
    "nbgrader": {
     "checksum": "6dbfdeba7dada611628d23bd358dfa51",
     "grade": false,
     "grade_id": "header",
     "locked": true,
     "schema_version": 1,
     "solution": false
    }
   },
   "source": [
    "# Petite mise en jambes programmation Python\n",
    "\n",
    "Quelques questions dans lesquelles il faut définir des fonctions. Ces questions seront corrigées automatiquement par l'outil. Et une dernière où l'on demande d'écrire un programme qui utilise une des fonctions des questions précédentes et qui sera évaluée par le formateur."
   ]
  },
  {
   "cell_type": "markdown",
   "metadata": {
    "deletable": false,
    "editable": false,
    "nbgrader": {
     "checksum": "440d90a7570a2d54fa4e0788e64254cc",
     "grade": false,
     "grade_id": "enonce_q1",
     "locked": true,
     "schema_version": 1,
     "solution": false
    }
   },
   "source": [
    "## Question 1\n",
    "\n",
    "Ecrire une fonction `partie_entiere` qui prend un entier `n` **positif ou nul** en paramètre et construit la liste des entiers 0 et 1 correspondant à l'écriture binaire de `n` par la méthode des divisions successives."
   ]
  },
  {
   "cell_type": "code",
   "execution_count": null,
   "metadata": {
    "deletable": false,
    "nbgrader": {
     "checksum": "5a58dbf23c523027a526dab63dc9a300",
     "grade": false,
     "grade_id": "partie_entiere_def",
     "locked": false,
     "schema_version": 1,
     "solution": true
    }
   },
   "outputs": [],
   "source": [
    "# Mettre votre code dans cette cellule\n"
   ]
  },
  {
   "cell_type": "code",
   "execution_count": null,
   "metadata": {
    "deletable": false,
    "editable": false,
    "nbgrader": {
     "checksum": "23e99cba8377a5240ef794730c2f6331",
     "grade": true,
     "grade_id": "partie_entiere_tests",
     "locked": true,
     "points": 1,
     "schema_version": 1,
     "solution": false
    }
   },
   "outputs": [],
   "source": [
    "\"\"\"Testez que votre fonction retourne les bons résultats pour quelques entrées.\n",
    "    Cette cellule n'est pas modifiable, vous pouvez simplement l'exécuter.\"\"\"\n",
    "\n",
    "assert bin_partie_entiere(0) == [0]\n",
    "assert bin_partie_entiere(12) == [1, 1, 0, 0]\n",
    "\n"
   ]
  },
  {
   "cell_type": "markdown",
   "metadata": {
    "deletable": false,
    "editable": false,
    "nbgrader": {
     "checksum": "7672aafefe9aa43fd0f42c2b7b40a1d4",
     "grade": false,
     "grade_id": "enonce_q2",
     "locked": true,
     "schema_version": 1,
     "solution": false
    }
   },
   "source": [
    "## Question 2\n",
    "\n",
    "Ecrire une fonction `bin_partie_decimale` qui prend un float f < 1 en paramètre et construit la liste des entiers 0 et 1 correspondant à l'écriture binaire de f par la méthode des multiplications successives. \n",
    "\n",
    "**Note :** Cette méthode, en théorie peut ne pas terminer puisqu'un décimal peut ne pas s'écrire comme une somme finie de 1/2^k. Dans notre fonction, comme nous utilisons un float le problème ne se posera pas et nous aurons une approximation seulement.\n",
    "\n",
    "**Note 2 :** On renverra la liste vide dans le cas de 0"
   ]
  },
  {
   "cell_type": "code",
   "execution_count": null,
   "metadata": {
    "deletable": false,
    "nbgrader": {
     "checksum": "d1cb417919a81c75b68344f081d1df44",
     "grade": false,
     "grade_id": "partie_decimale_def",
     "locked": false,
     "schema_version": 1,
     "solution": true
    }
   },
   "outputs": [],
   "source": [
    "# Mettre votre code dans cette cellule"
   ]
  },
  {
   "cell_type": "code",
   "execution_count": null,
   "metadata": {
    "deletable": false,
    "editable": false,
    "nbgrader": {
     "checksum": "65ab414e6afb35a8b0c9475bb44d041a",
     "grade": true,
     "grade_id": "partie_decimale_tests",
     "locked": true,
     "points": 1,
     "schema_version": 1,
     "solution": false
    }
   },
   "outputs": [],
   "source": [
    "\"\"\"Testez que votre fonction retourne les bons résultats pour quelques entrées.\n",
    "    Cette cellule n'est pas modifiable, vous pouvez simplement l'exécuter.\"\"\"\n",
    "\n",
    "assert bin_partie_decimale(0) == []\n",
    "assert bin_partie_decimale(.625) == [1, 0, 1]\n",
    "assert bin_partie_decimale(.7) == [1, 0, 1, 1, 0, 0, 1, 1, 0, 0, 1, 1, 0, 0, 1, 1, 0, 0, 1, 1, 0, 0, 1, 1, 0, 0, 1, 1, 0, 0, 1, 1, 0, 0, 1, 1, 0, 0, 1, 1, 0, 0, 1, 1, 0, 0, 1, 1, 0, 0, 1, 1]\n"
   ]
  },
  {
   "cell_type": "markdown",
   "metadata": {
    "deletable": false,
    "editable": false,
    "nbgrader": {
     "checksum": "c17ea9076f2e826a699ff0c5f311c026",
     "grade": false,
     "grade_id": "enonce_q3",
     "locked": true,
     "schema_version": 1,
     "solution": false
    }
   },
   "source": [
    "## Question 3\n",
    "\n",
    "A l'aide des fonctions précédentes, écrire une fonction `binaire` qui calcule la chaîne de caractères correspondant à l'écriture binaire d'un nombre (entier ou à virgule). "
   ]
  },
  {
   "cell_type": "code",
   "execution_count": null,
   "metadata": {
    "deletable": false,
    "nbgrader": {
     "checksum": "dd33de20c15ee6950e1d77d7308a3791",
     "grade": false,
     "grade_id": "binaire_def",
     "locked": false,
     "schema_version": 1,
     "solution": true
    }
   },
   "outputs": [],
   "source": [
    "# Mettre votre code dans cette cellule"
   ]
  },
  {
   "cell_type": "code",
   "execution_count": null,
   "metadata": {
    "deletable": false,
    "editable": false,
    "nbgrader": {
     "checksum": "4d8fdcb0799a701cb886081f060bce33",
     "grade": true,
     "grade_id": "binaire_tests",
     "locked": true,
     "points": 1,
     "schema_version": 1,
     "solution": false
    }
   },
   "outputs": [],
   "source": [
    "\"\"\"Testez que votre fonction retourne les bons résultats pour quelques entrées.\n",
    "    Cette cellule n'est pas modifiable, vous pouvez simplement l'exécuter.\"\"\"\n",
    "\n",
    "assert binaire(0) == '0'\n",
    "assert binaire(251.0) == '11111011'\n",
    "assert binaire(11.7) == '1011,101100110011001100110011001100110011001100110011'"
   ]
  },
  {
   "cell_type": "markdown",
   "metadata": {
    "deletable": false,
    "editable": false,
    "nbgrader": {
     "checksum": "51e79b5e5f29824ed6b88fb84239b8c5",
     "grade": false,
     "grade_id": "enonce_q4",
     "locked": true,
     "schema_version": 1,
     "solution": false
    }
   },
   "source": [
    "## Question 4\n",
    "\n",
    "Ecrire un programme qui demande un nombre à l'utilisateur et affiche l'écriture binaire de ce nombre."
   ]
  },
  {
   "cell_type": "code",
   "execution_count": null,
   "metadata": {
    "deletable": false,
    "nbgrader": {
     "checksum": "510f307bc8fe968c44c587ebff6d03ca",
     "grade": true,
     "grade_id": "main_exo1",
     "locked": false,
     "points": 1,
     "schema_version": 1,
     "solution": true
    }
   },
   "outputs": [],
   "source": [
    "\"\"\"Complétez le code suivant\"\"\"\n",
    "# Mettre votre code dans cette cellule\n",
    "\n",
    "# instruction 1\n",
    "try:\n",
    "    # instruction 2\n",
    "except:\n",
    "    # instruction 3\n",
    "\n",
    "# print(quelque_chose)"
   ]
  }
 ],
 "metadata": {
  "kernelspec": {
   "display_name": "Python 3",
   "language": "python",
   "name": "python3"
  },
  "language_info": {
   "codemirror_mode": {
    "name": "ipython",
    "version": 3
   },
   "file_extension": ".py",
   "mimetype": "text/x-python",
   "name": "python",
   "nbconvert_exporter": "python",
   "pygments_lexer": "ipython3",
   "version": "3.7.0"
  }
 },
 "nbformat": 4,
 "nbformat_minor": 2
}
