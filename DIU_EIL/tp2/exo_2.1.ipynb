{
 "cells": [
  {
   "cell_type": "markdown",
   "metadata": {
    "deletable": false,
    "editable": false,
    "nbgrader": {
     "checksum": "764ad6c9578877c6fb56f4179eb5fb2d",
     "grade": false,
     "grade_id": "cell-ae66700be5d525dc",
     "locked": true,
     "schema_version": 1,
     "solution": false
    }
   },
   "source": [
    "# Des exercices pour choisir les bonnes structures\n",
    "\n",
    "Voici quelques exercices, pas difficiles au niveau algorithmique mais dont les solutions s'écrivent plus ou moins élégamment en fonction de la structure choisie, des méthodes prédéfinies utilisées avec ces structures. Liste ? Dictionnaire ? Chaînes de caractères ? A vous de choisir et de résoudre au mieux les petits exemples ci-dessous."
   ]
  },
  {
   "cell_type": "markdown",
   "metadata": {
    "deletable": false,
    "editable": false,
    "nbgrader": {
     "checksum": "8ad992e4b064e812255433af0dfe9c22",
     "grade": false,
     "grade_id": "joseph_enonce",
     "locked": true,
     "schema_version": 1,
     "solution": false
    }
   },
   "source": [
    "## Le problème de Joseph\n",
    "\n",
    "Un grand classique. Des chevaliers sont en cercle. Ils vont se donner la mort. Le premier tue son voisin de gauche. Le voisin de gauche du chevalier tombé fait de même. Et ainsi de suite jusqu'à qu'il ne reste plus qu'un seul chevalier debout. (vous trouverez ici : [une vidéo youtube illustrant le problème](https://www.youtube.com/watch?v=uCsD3ZGzMgE)).\n",
    "\n",
    "Vous devez écrire une fonction `chevaliers` qui prend un entier N (le nombre de chevaliers) en paramètre et qui calcule le numéro du chevalier survivant (on suppose qu'ils sont numérotés de 1 à N)."
   ]
  },
  {
   "cell_type": "code",
   "execution_count": null,
   "metadata": {
    "deletable": false,
    "nbgrader": {
     "checksum": "723318ffe50ca3f7572bcdb791da7e17",
     "grade": false,
     "grade_id": "joseph_def",
     "locked": false,
     "schema_version": 1,
     "solution": true
    }
   },
   "outputs": [],
   "source": [
    "# Mettre votre code dans cette cellule"
   ]
  },
  {
   "cell_type": "code",
   "execution_count": null,
   "metadata": {
    "deletable": false,
    "editable": false,
    "nbgrader": {
     "checksum": "1023054f79ad96889a060384187355b0",
     "grade": true,
     "grade_id": "joseph_tests",
     "locked": true,
     "points": 1,
     "schema_version": 1,
     "solution": false
    }
   },
   "outputs": [],
   "source": [
    "\"\"\"Testez que votre fonction retourne les bons résultats pour quelques entrées.\n",
    "    Cette cellule n'est pas modifiable, vous pouvez simplement l'exécuter.\"\"\"\n",
    "\n",
    "assert chevaliers(10) == 5\n",
    "assert chevaliers(1) == 1\n",
    "assert chevaliers(8) == 1\n",
    "assert chevaliers(42) == 21"
   ]
  },
  {
   "cell_type": "markdown",
   "metadata": {
    "deletable": false,
    "editable": false,
    "nbgrader": {
     "checksum": "46d0e9c364fdc84102a7d28612b14843",
     "grade": false,
     "grade_id": "balade_enonce",
     "locked": true,
     "schema_version": 1,
     "solution": false
    }
   },
   "source": [
    "## Balade en centre ville\n",
    "\n",
    "Une personne a rendez-vous au coin d'une rue (de deux pour exact) mais arrive avec quelques minutes d'avance. Elle décide de faire un petit tour, au hasard, laissant son smartphone générer une balade aléatoire. La ville est constituée de blocs carrés et les rues forment un quadrillage. L'application fournit donc une balade sous la forme d'une chaîne de caractères constituée de 'n' (pour la direction Nord), 's' (Sud), 'o' (Ouest) et 'e' (Est). Notre promeneur souhaite revenir à son point de rendez-vous **exactement** à la bonne heure. Sachant que longer un bloc prend 1 minute et que la balade est constituée d'un nombre entier de blocs, écrire une fonction `est_valide` qui valide un itinéraire suggéré par le smartphone si ce dernier satisfait la contrainte. Ci-dessous trois itinéraires, un vert et deux rouges pour une personne ayant 12 minutes d'avance. Le vert est valide alors que les deux autres ne le sont pas (un retour ailleurs qu'au point de rendez-vous et l'autre nécessite 14 minutes).\n",
    "\n",
    "![parcours en ville](../../ressources_files/trois_parcours.png)\n",
    "\n",
    "- La verte : `'nneeenossoos'`\n",
    "- La rouge : `'ooonnnnneess'``\n",
    "- La mauve : `'ssenenessooonn'`"
   ]
  },
  {
   "cell_type": "code",
   "execution_count": null,
   "metadata": {
    "deletable": false,
    "nbgrader": {
     "checksum": "e188f54ec22a057324753f4e7c189c3a",
     "grade": false,
     "grade_id": "balade_def",
     "locked": false,
     "schema_version": 1,
     "solution": true
    }
   },
   "outputs": [],
   "source": [
    "# Mettre votre code dans cette cellule"
   ]
  },
  {
   "cell_type": "code",
   "execution_count": null,
   "metadata": {
    "deletable": false,
    "editable": false,
    "nbgrader": {
     "checksum": "d417056abbc7d5d1a809ccf55619e3c1",
     "grade": true,
     "grade_id": "balade_tests",
     "locked": true,
     "points": 1,
     "schema_version": 1,
     "solution": false
    }
   },
   "outputs": [],
   "source": [
    "\"\"\"Testez que votre fonction retourne les bons résultats pour quelques entrées.\n",
    "    Cette cellule n'est pas modifiable, vous pouvez simplement l'exécuter.\"\"\"\n",
    "\n",
    "assert est_valide('nneeenossoos', 12) == True\n",
    "assert est_valide('ooonnnnneess', 12) == False\n",
    "assert est_valide('ssenenessooonn', 12) == False"
   ]
  },
  {
   "cell_type": "markdown",
   "metadata": {
    "deletable": false,
    "editable": false,
    "nbgrader": {
     "checksum": "f1eb75ae4a882a3b4479c9a0b3e4c9e4",
     "grade": false,
     "grade_id": "parentheses_enonce",
     "locked": true,
     "schema_version": 1,
     "solution": false
    }
   },
   "source": [
    "## Bien parenthésée\n",
    "\n",
    "On considère un expression comportant du texte et des parenthèses, accolades, crochets. Il s'agit d'écrire une fonction `bien_parenthesee` qui prend une chaîne de caractères S et retourne `True` si et seulement si S est bien parenthésée. Voir la cellule de tests pour des exemples et contre-exemples."
   ]
  },
  {
   "cell_type": "code",
   "execution_count": null,
   "metadata": {
    "deletable": false,
    "nbgrader": {
     "checksum": "2a9402f589918cdbc131a54249e44521",
     "grade": false,
     "grade_id": "parentheses_def",
     "locked": false,
     "schema_version": 1,
     "solution": true
    }
   },
   "outputs": [],
   "source": [
    "# Mettre votre code dans cette cellule"
   ]
  },
  {
   "cell_type": "code",
   "execution_count": null,
   "metadata": {
    "deletable": false,
    "editable": false,
    "nbgrader": {
     "checksum": "77199225c6d0a4085cbfbaa176b4133b",
     "grade": true,
     "grade_id": "parentheses_tests",
     "locked": true,
     "points": 1,
     "schema_version": 1,
     "solution": false
    }
   },
   "outputs": [],
   "source": [
    "\"\"\"Testez que votre fonction retourne les bons résultats pour quelques entrées.\n",
    "    Cette cellule n'est pas modifiable, vous pouvez simplement l'exécuter.\"\"\"\n",
    "\n",
    "assert bien_parenthesee('(([3-4]*12) + {5/3})') == True\n",
    "assert bien_parenthesee('([})') == False, 'crochet ouvrant pour une accolade fermante'\n",
    "assert bien_parenthesee('()()({()())') == False, 'manque une accolade fermante'"
   ]
  }
 ],
 "metadata": {
  "kernelspec": {
   "display_name": "Python 3",
   "language": "python",
   "name": "python3"
  },
  "language_info": {
   "codemirror_mode": {
    "name": "ipython",
    "version": 3
   },
   "file_extension": ".py",
   "mimetype": "text/x-python",
   "name": "python",
   "nbconvert_exporter": "python",
   "pygments_lexer": "ipython3",
   "version": "3.7.0"
  }
 },
 "nbformat": 4,
 "nbformat_minor": 2
}
